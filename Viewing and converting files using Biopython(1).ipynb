{
 "cells": [
  {
   "cell_type": "code",
   "execution_count": 3,
   "id": "ba35b18d",
   "metadata": {},
   "outputs": [
    {
     "name": "stdout",
     "output_type": "stream",
     "text": [
      "Requirement already satisfied: Biopython in c:\\users\\msaim\\anaconda3\\lib\\site-packages (1.81)\n",
      "Requirement already satisfied: numpy in c:\\users\\msaim\\anaconda3\\lib\\site-packages (from Biopython) (1.23.5)\n",
      "Note: you may need to restart the kernel to use updated packages.\n"
     ]
    }
   ],
   "source": [
    "pip install Biopython"
   ]
  },
  {
   "cell_type": "code",
   "execution_count": 40,
   "id": "35cedf6a",
   "metadata": {},
   "outputs": [
    {
     "name": "stdout",
     "output_type": "stream",
     "text": [
      "Requirement already satisfied: biopython in c:\\users\\msaim\\anaconda3\\lib\\site-packages (1.81)\n",
      "Requirement already satisfied: numpy in c:\\users\\msaim\\anaconda3\\lib\\site-packages (from biopython) (1.23.5)\n",
      "Note: you may need to restart the kernel to use updated packages.\n"
     ]
    }
   ],
   "source": [
    "pip install --upgrade biopython\n"
   ]
  },
  {
   "cell_type": "code",
   "execution_count": 4,
   "id": "a909a0a2",
   "metadata": {},
   "outputs": [
    {
     "name": "stdout",
     "output_type": "stream",
     "text": [
      "\n",
      "Note: you may need to restart the kernel to use updated packages.\n"
     ]
    },
    {
     "name": "stderr",
     "output_type": "stream",
     "text": [
      "\n",
      "PackageNotInstalledError: Package is not installed in prefix.\n",
      "  prefix: C:\\Users\\msaim\\anaconda3\n",
      "  package name: biopython\n",
      "\n",
      "\n"
     ]
    }
   ],
   "source": [
    "conda update biopython\n"
   ]
  },
  {
   "cell_type": "code",
   "execution_count": 9,
   "id": "2b05157c",
   "metadata": {},
   "outputs": [
    {
     "name": "stdout",
     "output_type": "stream",
     "text": [
      "ID: AH006904.2\n",
      "Name: AH006904\n",
      "Description: Theileria parva strain Muguga mitochondrion sequence\n",
      "Number of features: 7\n",
      "/molecule_type=DNA\n",
      "/topology=linear\n",
      "/data_file_division=INV\n",
      "/date=25-AUG-2016\n",
      "/accessions=['AH006904', 'AF046926', 'AF046927']\n",
      "/sequence_version=2\n",
      "/keywords=['']\n",
      "/source=mitochondrion Theileria parva\n",
      "/organism=Theileria parva\n",
      "/taxonomy=['Eukaryota', 'Sar', 'Alveolata', 'Apicomplexa', 'Aconoidasida', 'Piroplasmida', 'Theileriidae', 'Theileria']\n",
      "/references=[Reference(title='A 7.1 kb linear DNA molecule of Theileria parva has scrambled rDNA sequences and open reading frames for mitochondrially encoded proteins', ...), Reference(title='Telomeric features of Theileria parva mitochondrial DNA derived from cycle sequence data of total genomic DNA', ...), Reference(title='Direct Submission', ...)]\n",
      "/comment=On or before Aug 25, 2016 this sequence version replaced\n",
      "AF046927.1, AF046926.1, AH006904.1.\n",
      "Seq('AATTTATAACTTAAACTTCTTAACGACCAACAAATATATGTCTGAATTTAACGA...TGT')\n"
     ]
    }
   ],
   "source": [
    "from Bio import SeqIO\n",
    "\n",
    "with open(\"sequence.gb\") as input_handle:\n",
    "    for record in SeqIO.parse(input_handle, \"genbank\"):\n",
    "        print(record)\n",
    "        "
   ]
  },
  {
   "cell_type": "code",
   "execution_count": null,
   "id": "bbfa2fdd",
   "metadata": {},
   "outputs": [],
   "source": [
    "#Converting file from genbank to fasta file\n",
    "\n",
    "from Bio import SeqIO\n",
    "\n",
    "count = SeqIO.convert(\"cor6_6.gb\", \"genbank\", \"cor6_6.fasta\", \"fasta\")\n",
    "print(\"Converted %i records\" % count)\n"
   ]
  },
  {
   "cell_type": "code",
   "execution_count": 11,
   "id": "a11bb451",
   "metadata": {},
   "outputs": [
    {
     "name": "stdout",
     "output_type": "stream",
     "text": [
      "Converted 1 records\n"
     ]
    }
   ],
   "source": [
    "from Bio import SeqIO\n",
    "count = SeqIO.convert(\"sequence.gb\", \"genbank\", \"sequence.fasta\", \"fasta\")\n",
    "print(\"Converted %i records\" % count)"
   ]
  },
  {
   "cell_type": "code",
   "execution_count": 12,
   "id": "c30858fa",
   "metadata": {},
   "outputs": [
    {
     "data": {
      "text/plain": [
       "1"
      ]
     },
     "execution_count": 12,
     "metadata": {},
     "output_type": "execute_result"
    }
   ],
   "source": [
    "count"
   ]
  },
  {
   "cell_type": "code",
   "execution_count": 28,
   "id": "8e7bf3bf",
   "metadata": {},
   "outputs": [
    {
     "name": "stdout",
     "output_type": "stream",
     "text": [
      "ID: AH006904.2\n",
      "Name: AH006904\n",
      "Description: Theileria parva strain Muguga mitochondrion sequence\n",
      "Number of features: 7\n",
      "/molecule_type=DNA\n",
      "/topology=linear\n",
      "/data_file_division=INV\n",
      "/date=25-AUG-2016\n",
      "/accessions=['AH006904', 'AF046926', 'AF046927']\n",
      "/sequence_version=2\n",
      "/keywords=['']\n",
      "/source=mitochondrion Theileria parva\n",
      "/organism=Theileria parva\n",
      "/taxonomy=['Eukaryota', 'Sar', 'Alveolata', 'Apicomplexa', 'Aconoidasida', 'Piroplasmida', 'Theileriidae', 'Theileria']\n",
      "/references=[Reference(title='A 7.1 kb linear DNA molecule of Theileria parva has scrambled rDNA sequences and open reading frames for mitochondrially encoded proteins', ...), Reference(title='Telomeric features of Theileria parva mitochondrial DNA derived from cycle sequence data of total genomic DNA', ...), Reference(title='Direct Submission', ...)]\n",
      "/comment=On or before Aug 25, 2016 this sequence version replaced\n",
      "AF046927.1, AF046926.1, AH006904.1.\n",
      "Seq('AATTTATAACTTAAACTTCTTAACGACCAACAAATATATGTCTGAATTTAACGA...TGT')\n"
     ]
    }
   ],
   "source": [
    "#Opening sequence.gb file\n",
    "\n",
    "from Bio import SeqIO\n",
    "\n",
    "with open(\"sequence.gb\") as input_handle:\n",
    "    for record in SeqIO.parse(input_handle, \"genbank\"):\n",
    "        print(record)\n",
    "        \n",
    "        \n",
    "        \n",
    "        "
   ]
  },
  {
   "cell_type": "code",
   "execution_count": 13,
   "id": "de51aa8c",
   "metadata": {},
   "outputs": [
    {
     "name": "stdout",
     "output_type": "stream",
     "text": [
      "ID: AH006904.2\n",
      "Name: AH006904.2\n",
      "Description: AH006904.2 Theileria parva strain Muguga mitochondrion sequence\n",
      "Number of features: 0\n",
      "Seq('AATTTATAACTTAAACTTCTTAACGACCAACAAATATATGTCTGAATTTAACGA...TGT')\n"
     ]
    }
   ],
   "source": [
    "#Opening the converted fasta file\n",
    "\n",
    "from Bio import SeqIO\n",
    "\n",
    "with open(\"sequence.fasta\") as input_handle:\n",
    "    for record in SeqIO.parse(input_handle, \"fasta\"):\n",
    "        print(record)"
   ]
  },
  {
   "cell_type": "code",
   "execution_count": 19,
   "id": "2bc750c6",
   "metadata": {},
   "outputs": [
    {
     "name": "stdout",
     "output_type": "stream",
     "text": [
      "ID: AY892288.1\n",
      "Name: AY892288\n",
      "Description: Synthetic construct Homo sapiens clone FLH014428.01L TAR (HIV) mRNA, partial cds\n",
      "Number of features: 3\n",
      "/molecule_type=mRNA\n",
      "/topology=linear\n",
      "/data_file_division=SYN\n",
      "/date=26-JUL-2016\n",
      "/accessions=['AY892288']\n",
      "/sequence_version=1\n",
      "/keywords=['Human ORF project']\n",
      "/source=synthetic construct\n",
      "/organism=synthetic construct\n",
      "/taxonomy=['other sequences', 'artificial sequences']\n",
      "/references=[Reference(title='Cloning of human full-length CDS in Creator (TM) recombinational vector system', ...), Reference(title='Direct Submission', ...)]\n",
      "/comment=This CDS clone is a part of a collection of human full-length\n",
      "expression clones generated by Harvard Institute of Proteomics.\n",
      "This ORF clone has been cloned without stop-codon (to allow fusion\n",
      "with C-terminal tag). The CDS has been directionally cloned using\n",
      "BD In-Fusion(TM) cloning system between the SalI and HindIII sites\n",
      "of the pDNR-Dual vector. Additional sequences in the clone:  'ACC'\n",
      "after SalI site and before 'ATG' to provide Kozak consensus\n",
      "sequence; 'GG' after last codon and before HindIII site to maintain\n",
      "reading frame.  Each clone is clonally isolated and full-length\n",
      "sequence-verified.\n",
      "Seq('ATGAGTGAAGAGGAGCAAGGCTCCGGCACTACCACGGGCTGCGGGCTGCCTAGT...TTG')\n"
     ]
    }
   ],
   "source": [
    "#Opening a new downloaded genbank file\n",
    "\n",
    "from Bio import SeqIO\n",
    "\n",
    "with open(\"sequence(1).gb\") as input_handle:\n",
    "    for record in SeqIO.parse(input_handle, \"genbank\"):\n",
    "        print(record)"
   ]
  },
  {
   "cell_type": "code",
   "execution_count": 20,
   "id": "21c0318c",
   "metadata": {},
   "outputs": [
    {
     "name": "stdout",
     "output_type": "stream",
     "text": [
      "Converted 1 records\n"
     ]
    },
    {
     "data": {
      "text/plain": [
       "1"
      ]
     },
     "execution_count": 20,
     "metadata": {},
     "output_type": "execute_result"
    }
   ],
   "source": [
    "#Converting the new gb file to fasta format\n",
    "\n",
    "from Bio import SeqIO\n",
    "\n",
    "count = SeqIO.convert(\"sequence(1).gb\", \"genbank\", \"sequence(1).fasta\", \"fasta\")\n",
    "print(\"Converted %i records\" % count)\n",
    "count"
   ]
  },
  {
   "cell_type": "code",
   "execution_count": 23,
   "id": "d496483c",
   "metadata": {},
   "outputs": [
    {
     "name": "stdout",
     "output_type": "stream",
     "text": [
      "ID: AY892288.1\n",
      "Name: AY892288.1\n",
      "Description: AY892288.1 Synthetic construct Homo sapiens clone FLH014428.01L TAR (HIV) mRNA, partial cds\n",
      "Number of features: 0\n",
      "Seq('ATGAGTGAAGAGGAGCAAGGCTCCGGCACTACCACGGGCTGCGGGCTGCCTAGT...TTG')\n"
     ]
    }
   ],
   "source": [
    "#Opening the converted file\n",
    "\n",
    "with open(\"sequence(1).fasta\") as input_handle:\n",
    "    for record in SeqIO.parse(input_handle, \"fasta\"):\n",
    "        print(record)"
   ]
  },
  {
   "cell_type": "code",
   "execution_count": 29,
   "id": "282b913f",
   "metadata": {},
   "outputs": [
    {
     "data": {
      "text/plain": [
       "1"
      ]
     },
     "execution_count": 29,
     "metadata": {},
     "output_type": "execute_result"
    }
   ],
   "source": [
    "#Example of converting fasta file to Genbank\n",
    "\n",
    "from Bio import SeqIO\n",
    "\n",
    "# Read the input file\n",
    "record = SeqIO.read(\"sequence(1).fasta\", \"fasta\")\n",
    "\n",
    "# Set the molecule_type attribute\n",
    "record.annotations[\"molecule_type\"] = \"DNA\"\n",
    "\n",
    "# Write the record to a GenBank file\n",
    "SeqIO.write(record, \"sequence(1).gb\", \"genbank\")\n"
   ]
  },
  {
   "cell_type": "code",
   "execution_count": 31,
   "id": "5eb0dde0",
   "metadata": {},
   "outputs": [
    {
     "data": {
      "text/plain": [
       "1"
      ]
     },
     "execution_count": 31,
     "metadata": {},
     "output_type": "execute_result"
    }
   ],
   "source": [
    "#Example of converting another fasta file\n",
    "from Bio import SeqIO\n",
    "\n",
    "#READING THE INPUT FILE\n",
    "record = SeqIO.read(\"sequence(19).fasta\", \"fasta\")\n",
    "\n",
    "#SETTING THE MOLECULE_TYPEATTRIBUTE\n",
    "record.annotations[\"molecule_type\"] = \"mRNA\"\n",
    "\n",
    "#WRITE THE RECORD TO GENBANK FILE\n",
    "SeqIO.write(record, \"sequence(19).gb\", \"genbank\")"
   ]
  },
  {
   "cell_type": "code",
   "execution_count": 32,
   "id": "9ff8449f",
   "metadata": {},
   "outputs": [
    {
     "data": {
      "text/plain": [
       "1"
      ]
     },
     "execution_count": 32,
     "metadata": {},
     "output_type": "execute_result"
    }
   ],
   "source": [
    "##CHANGING NAME OF OUTPUT FILE\n",
    "\n",
    "from Bio import SeqIO\n",
    "\n",
    "#READING THE INPUT FILE\n",
    "record = SeqIO.read(\"sequence(19).fasta\", \"fasta\")\n",
    "\n",
    "#SETTING THE MOLECULE_TYPEATTRIBUTE\n",
    "record.annotations[\"molecule_type\"] = \"mRNA\"\n",
    "\n",
    "#WRITE THE RECORD TO GENBANK FILE\n",
    "SeqIO.write(record, \"marbug.gb\", \"genbank\")"
   ]
  },
  {
   "cell_type": "code",
   "execution_count": 37,
   "id": "b8264089",
   "metadata": {},
   "outputs": [
    {
     "name": "stdout",
     "output_type": "stream",
     "text": [
      "ID: EF127864.2\n",
      "Name: EF127864.2\n",
      "Description: EF127864.2 Ammi majus cytochrome P450-dependent monooxygenase-like protein (CYP71D97) gene, complete cds\n",
      "Number of features: 0\n",
      "/molecule_type=mRNA\n",
      "/data_file_division=UNK\n",
      "/date=01-JAN-1980\n",
      "/accessions=['EF127864']\n",
      "/sequence_version=2\n",
      "/keywords=['']\n",
      "/source=\n",
      "/organism=.\n",
      "/taxonomy=[]\n",
      "Seq('ATCCATATATCACAACAAACACTTACAGATACATTTAAATTGTCTAAATATCCA...GAA')\n"
     ]
    }
   ],
   "source": [
    "##OPENING OUR CONVERTED MARBUG FILE\n",
    "from Bio import SeqIO\n",
    "with open(\"marbug.gb\") as input_handle:\n",
    "    for record in SeqIO.parse(input_handle, \"genbank\"):\n",
    "        print(record)"
   ]
  },
  {
   "cell_type": "code",
   "execution_count": 33,
   "id": "6889f8b3",
   "metadata": {},
   "outputs": [
    {
     "data": {
      "text/plain": [
       "1"
      ]
     },
     "execution_count": 33,
     "metadata": {},
     "output_type": "execute_result"
    }
   ],
   "source": [
    "#Converting our first gb file to fasta using SeqIO.write\n",
    "from Bio import SeqIO\n",
    "\n",
    "record = SeqIO.read(\"sequence.gb\",\"genbank\")\n",
    "record.annotations[\"molecule_type\"] = \"RNA\"\n",
    "SeqIO.write(record, \"T.PARVA.fasta\", \"fasta\")"
   ]
  },
  {
   "cell_type": "code",
   "execution_count": 34,
   "id": "95aeba12",
   "metadata": {},
   "outputs": [
    {
     "name": "stdout",
     "output_type": "stream",
     "text": [
      "ID: AH006904.2\n",
      "Name: AH006904.2\n",
      "Description: AH006904.2 Theileria parva strain Muguga mitochondrion sequence\n",
      "Number of features: 0\n",
      "Seq('AATTTATAACTTAAACTTCTTAACGACCAACAAATATATGTCTGAATTTAACGA...TGT')\n"
     ]
    }
   ],
   "source": [
    "#OPENING T.PARVA\n",
    "\n",
    "from Bio import SeqIO\n",
    "\n",
    "with open(\"T.PARVA.fasta\") as input_handle:\n",
    "    for record in SeqIO.parse(input_handle, \"fasta\"):\n",
    "        print(record)\n",
    "        "
   ]
  },
  {
   "cell_type": "code",
   "execution_count": 6,
   "id": "ce37d7a6",
   "metadata": {},
   "outputs": [],
   "source": [
    "from Bio import SeqIO\n",
    "from Bio.SeqIO import AbiIO"
   ]
  },
  {
   "cell_type": "code",
   "execution_count": 73,
   "id": "82f32265",
   "metadata": {},
   "outputs": [],
   "source": [
    "from Bio import SeqIO\n",
    "\n",
    "# Open the ABI file and convert it to a FASTA sequence\n",
    "with open(\"sample_9\", \"rb\") as handle:\n",
    "    records = SeqIO.parse(handle, \"abi\")\n",
    "    SeqIO.write(records, \"boladanile.fasta\", \"fasta\")\n"
   ]
  },
  {
   "cell_type": "code",
   "execution_count": 76,
   "id": "82245605",
   "metadata": {},
   "outputs": [
    {
     "name": "stdout",
     "output_type": "stream",
     "text": [
      "ID: 9\n",
      "Name: 9\n",
      "Description: 9\n",
      "Number of features: 0\n",
      "Seq('TKMGKRKTWMWWWARRAKYGRGTKGYAATTTCTTTMAACGGGACCGAGCGKKTG...RAA')\n"
     ]
    }
   ],
   "source": [
    "with open(\"boladanile.fasta\") as input_handle:\n",
    "    for record in SeqIO.parse(input_handle, \"fasta\"):\n",
    "        print(record)"
   ]
  },
  {
   "cell_type": "code",
   "execution_count": 77,
   "id": "ba18da2e",
   "metadata": {},
   "outputs": [
    {
     "name": "stdout",
     "output_type": "stream",
     "text": [
      "<Bio.SeqIO.AbiIO.AbiIterator object at 0x000002C6F24C91C0>\n"
     ]
    }
   ],
   "source": [
    "#Vieing sample_18 after editing in bioedit\n",
    "with open(\"sample_18\", \"rb\") as handle:\n",
    "    records = SeqIO.parse(handle, \"abi\")\n",
    "    print(records)\n",
    "    #SeqIO.write(records, \"bol18.fasta\", \"fasta\")"
   ]
  },
  {
   "cell_type": "code",
   "execution_count": 78,
   "id": "eb7a0712",
   "metadata": {},
   "outputs": [
    {
     "name": "stdout",
     "output_type": "stream",
     "text": [
      "<Bio.SeqIO.AbiIO.AbiIterator object at 0x000002C6FA2C8C10>\n"
     ]
    }
   ],
   "source": [
    "with open(\"sample_18\", \"rb\") as handle:\n",
    "    records = SeqIO.parse(handle, \"abi\")\n",
    "    print(records)\n",
    "    SeqIO.write(records, \"bol18.fasta\", \"fasta\")"
   ]
  },
  {
   "cell_type": "code",
   "execution_count": 68,
   "id": "7023d5f0",
   "metadata": {},
   "outputs": [
    {
     "name": "stdout",
     "output_type": "stream",
     "text": [
      "ID: 18\n",
      "Name: 18\n",
      "Description: 18\n",
      "Number of features: 0\n",
      "Seq('TRRRWWTTYTAMRGRGGMGAGTGYMTTTCTTCAACGGGACCGAGCGGGTGCGGT...RAA')\n"
     ]
    }
   ],
   "source": [
    "#Viewing the created file\n",
    "with open(\"bol18.fasta\") as input_handle:\n",
    "    for record in SeqIO.parse(input_handle, \"fasta\"):\n",
    "        print(record)"
   ]
  },
  {
   "cell_type": "code",
   "execution_count": 41,
   "id": "b4300375",
   "metadata": {},
   "outputs": [
    {
     "name": "stdout",
     "output_type": "stream",
     "text": [
      "ID: 18\n",
      "Name: 18\n",
      "Description: 18\n",
      "Number of features: 0\n",
      "Seq('TGGAATTTTTAAGGGGGGGAGTGCCTTTCTTCAACGGGACCGAGCGGGTGCGGT...GAA')\n"
     ]
    }
   ],
   "source": [
    "##Opening the created fasta file after exporting as fasta with chromas\n",
    "with open(\"sample_18_changed.fasta\") as input_handle:\n",
    "    for record in SeqIO.parse(input_handle, \"fasta\"):\n",
    "        print(record)"
   ]
  }
 ],
 "metadata": {
  "kernelspec": {
   "display_name": "Python 3 (ipykernel)",
   "language": "python",
   "name": "python3"
  },
  "language_info": {
   "codemirror_mode": {
    "name": "ipython",
    "version": 3
   },
   "file_extension": ".py",
   "mimetype": "text/x-python",
   "name": "python",
   "nbconvert_exporter": "python",
   "pygments_lexer": "ipython3",
   "version": "3.9.13"
  }
 },
 "nbformat": 4,
 "nbformat_minor": 5
}
